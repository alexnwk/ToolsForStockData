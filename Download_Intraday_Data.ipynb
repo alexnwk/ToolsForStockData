{
  "nbformat": 4,
  "nbformat_minor": 0,
  "metadata": {
    "colab": {
      "provenance": [],
      "authorship_tag": "ABX9TyPghmOYOHJgJnOrICKCBoZw",
      "include_colab_link": true
    },
    "kernelspec": {
      "name": "python3",
      "display_name": "Python 3"
    },
    "language_info": {
      "name": "python"
    }
  },
  "cells": [
    {
      "cell_type": "markdown",
      "metadata": {
        "id": "view-in-github",
        "colab_type": "text"
      },
      "source": [
        "<a href=\"https://colab.research.google.com/github/anovaski/ToolsForStockData/blob/main/Download_Intraday_Data.ipynb\" target=\"_parent\"><img src=\"https://colab.research.google.com/assets/colab-badge.svg\" alt=\"Open In Colab\"/></a>"
      ]
    },
    {
      "cell_type": "code",
      "execution_count": null,
      "metadata": {
        "id": "8sFEdB811UL-"
      },
      "outputs": [],
      "source": [
        "!pip install git+https://github.com/anovaski/mplchart.git"
      ]
    },
    {
      "cell_type": "code",
      "source": [
        "!git clone https://github.com/anovaski/ToolsForStockData.git"
      ],
      "metadata": {
        "colab": {
          "base_uri": "https://localhost:8080/"
        },
        "id": "NQgyY-3iN8y6",
        "outputId": "25e49236-fbc3-4620-a13e-126e6d52eb96"
      },
      "execution_count": null,
      "outputs": [
        {
          "output_type": "stream",
          "name": "stdout",
          "text": [
            "Cloning into 'get_intraday_stock_data'...\n",
            "remote: Enumerating objects: 9, done.\u001b[K\n",
            "remote: Counting objects: 100% (9/9), done.\u001b[K\n",
            "remote: Compressing objects: 100% (8/8), done.\u001b[K\n",
            "Receiving objects: 100% (9/9), 5.53 KiB | 5.53 MiB/s, done.\n",
            "remote: Total 9 (delta 0), reused 0 (delta 0), pack-reused 0\u001b[K\n"
          ]
        }
      ]
    },
    {
      "cell_type": "code",
      "source": [
        "import yfinance as yf\n",
        "\n",
        "from mplchart.chart import Chart\n",
        "from mplchart.primitives import Candlesticks, Volume\n",
        "from mplchart.indicators import ROC, SMA, EMA, RSI, MACD\n",
        "import matplotlib.pyplot as plt\n",
        "\n",
        "import datetime\n",
        "\n",
        "import pandas as pd\n",
        "\n",
        "from google.colab import drive\n",
        "\n",
        "def download_intraday_data(ticker, interval, start, end):\n",
        "\n",
        "  prices = yf.Ticker(ticker).history(start=start, end=end, interval=interval)\n",
        "  prices.insert(0, \"ticker\", ticker)\n",
        "\n",
        "  return prices\n",
        "\n",
        "def add_rows_to_df(original_df, incremental_df):\n",
        "  df1 = pd.DataFrame(original_df)\n",
        "  df2 = pd.DataFrame(incremental_df)\n",
        "  combined_df = pd.concat([df1, df2])\n",
        "  return combined_df\n",
        "\n",
        "def read_tickers(textfile):\n",
        "  textfile = open(textfile, 'r')\n",
        "  textfile = textfile.read()\n",
        "  textfile = textfile.split(\"\\n\")\n",
        "  if textfile[-1] == \"\":\n",
        "    textfile = textfile[0:len(textfile)-1]\n",
        "  return textfile\n",
        "\n",
        "drive.mount('/content/drive')"
      ],
      "metadata": {
        "id": "dyGQsK1o1aAq",
        "colab": {
          "base_uri": "https://localhost:8080/"
        },
        "outputId": "85613892-c83a-4705-f45d-d915e7f3217b"
      },
      "execution_count": null,
      "outputs": [
        {
          "output_type": "stream",
          "name": "stdout",
          "text": [
            "Mounted at /content/drive\n"
          ]
        }
      ]
    },
    {
      "cell_type": "code",
      "source": [
        "ticker = 'SPY'\n",
        "\n",
        "end = datetime.datetime.now()\n",
        "start = end - datetime.timedelta(days=59)\n",
        "text_end = end.strftime('%m-%d-%Y')\n",
        "text_start = start.strftime('%m-%d-%Y')\n",
        "\n",
        "file_name = ticker + '-' + text_start + '-' + text_end + '.csv'\n",
        "\n",
        "prices = download_intraday_data('SPY', '5m', start, end)\n",
        "prices.to_csv(file_name)\n",
        "!cp $file_name '/content/drive/MyDrive/intraday-prices'\n",
        "\n",
        "ticker = 'QQQ'\n",
        "\n",
        "file_name = ticker + '-' + text_start + '-' + text_end + '.csv'\n",
        "\n",
        "prices = download_intraday_data('SPY', '5m', start, end)\n",
        "prices.to_csv(file_name)\n",
        "!cp $file_name '/content/drive/MyDrive/intraday-prices'\n",
        "\n",
        "ticker = 'IBB'\n",
        "\n",
        "file_name = ticker + '-' + text_start + '-' + text_end + '.csv'\n",
        "\n",
        "prices = download_intraday_data('SPY', '5m', start, end)\n",
        "prices.to_csv(file_name)\n",
        "!cp $file_name '/content/drive/MyDrive/intraday-prices'\n",
        "\n",
        "#For downloading list of data, S&P500\n",
        "\n",
        "file_name = \"sp500\"\n",
        "ticker_list = read_tickers('/content/ToolsForStockData/ticker-lists/sp500.txt')\n",
        "\n",
        "end = datetime.datetime.now()\n",
        "start = end - datetime.timedelta(days=59)\n",
        "text_end = end.strftime('%m-%d-%Y')\n",
        "text_start = start.strftime('%m-%d-%Y')\n",
        "\n",
        "for ticker in ticker_list:\n",
        "  single_price_data = download_intraday_data(ticker, '5m', start, end)\n",
        "  if ticker_list.index(ticker) == 0:\n",
        "    all_price_data = single_price_data\n",
        "  else:\n",
        "    all_price_data = add_rows_to_df(all_price_data, single_price_data)\n",
        "\n",
        "file_name = file_name + '-' + text_start + '-' + text_end + '.csv'\n",
        "\n",
        "all_price_data.to_csv(file_name)\n",
        "!cp $file_name '/content/drive/MyDrive/intraday-prices'\n",
        "\n",
        "#For downloading list of data, healthcare sector\n",
        "\n",
        "file_name = \"healthcare\"\n",
        "ticker_list = read_tickers('/content/ToolsForStockData/ticker-lists/hc.txt')\n",
        "\n",
        "end = datetime.datetime.now()\n",
        "start = end - datetime.timedelta(days=59)\n",
        "text_end = end.strftime('%m-%d-%Y')\n",
        "text_start = start.strftime('%m-%d-%Y')\n",
        "\n",
        "for ticker in ticker_list:\n",
        "  single_price_data = download_intraday_data(ticker, '5m', start, end)\n",
        "  if ticker_list.index(ticker) == 0:\n",
        "    all_price_data = single_price_data\n",
        "  else:\n",
        "    all_price_data = add_rows_to_df(all_price_data, single_price_data)\n",
        "\n",
        "file_name = file_name + '-' + text_start + '-' + text_end + '.csv'\n",
        "\n",
        "all_price_data.to_csv(file_name)\n",
        "!cp $file_name '/content/drive/MyDrive/intraday-prices'"
      ],
      "metadata": {
        "id": "rpcWjeTU4bc-",
        "colab": {
          "base_uri": "https://localhost:8080/"
        },
        "outputId": "01393d62-6b69-4ba0-e60b-a7909ece231a"
      },
      "execution_count": null,
      "outputs": [
        {
          "output_type": "stream",
          "name": "stderr",
          "text": [
            "ERROR:yfinance:BF.B: No price data found, symbol may be delisted (5m 2024-02-15 15:33:12.981054 -> 2024-04-14 15:33:12.981054)\n",
            "ERROR:yfinance:BRK.B: No timezone found, symbol may be delisted\n"
          ]
        }
      ]
    },
    {
      "cell_type": "code",
      "source": [
        "#To run a single ticker, uncomment to run.\n",
        "\"\"\"\n",
        "ticker = 'SPY'\n",
        "\n",
        "end = datetime.datetime.now()\n",
        "start = end - datetime.timedelta(days=59)\n",
        "text_end = end.strftime('%m-%d-%Y')\n",
        "text_start = start.strftime('%m-%d-%Y')\n",
        "\n",
        "file_name = ticker + '-' + text_start + '-' + text_end + '.csv'\n",
        "\n",
        "prices = download_intraday_data('SPY', '5m', start, end)\n",
        "prices.to_csv(file_name)\n",
        "!cp $file_name '/content/drive/MyDrive/intraday-prices'\n",
        "\n",
        "\"\"\""
      ],
      "metadata": {
        "id": "GUjjvz1U4luH",
        "colab": {
          "base_uri": "https://localhost:8080/",
          "height": 86
        },
        "outputId": "d1c5df84-4507-479e-d181-2471ca32b072"
      },
      "execution_count": null,
      "outputs": [
        {
          "output_type": "execute_result",
          "data": {
            "text/plain": [
              "\"\\nticker = 'SPY'\\n\\nend = datetime.datetime.now()\\nstart = end - datetime.timedelta(days=59)\\ntext_end = end.strftime('%m-%d-%Y')\\ntext_start = start.strftime('%m-%d-%Y')\\n\\nfile_name = ticker + '-' + text_start + '-' + text_end + '.csv'\\n\\nprices = download_intraday_data('SPY', '5m', start, end)\\nprices.to_csv(file_name)\\n!cp $file_name '/content/drive/MyDrive/intraday-prices'\\n\\n\""
            ],
            "application/vnd.google.colaboratory.intrinsic+json": {
              "type": "string"
            }
          },
          "metadata": {},
          "execution_count": 5
        }
      ]
    },
    {
      "cell_type": "code",
      "source": [],
      "metadata": {
        "id": "KbDW8kmqKuQ9"
      },
      "execution_count": null,
      "outputs": []
    }
  ]
}