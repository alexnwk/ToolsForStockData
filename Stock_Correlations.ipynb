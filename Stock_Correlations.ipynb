{
  "nbformat": 4,
  "nbformat_minor": 0,
  "metadata": {
    "colab": {
      "provenance": [],
      "authorship_tag": "ABX9TyMbe10Z7DypRjkRLDr4RvgQ",
      "include_colab_link": true
    },
    "kernelspec": {
      "name": "python3",
      "display_name": "Python 3"
    },
    "language_info": {
      "name": "python"
    }
  },
  "cells": [
    {
      "cell_type": "markdown",
      "metadata": {
        "id": "view-in-github",
        "colab_type": "text"
      },
      "source": [
        "<a href=\"https://colab.research.google.com/github/anovaski/ToolsForStockData/blob/main/Stock_Correlations.ipynb\" target=\"_parent\"><img src=\"https://colab.research.google.com/assets/colab-badge.svg\" alt=\"Open In Colab\"/></a>"
      ]
    },
    {
      "cell_type": "code",
      "source": [
        "!pip install git+https://github.com/anovaski/mplchart.git"
      ],
      "metadata": {
        "id": "Bof_LqnSWc1S"
      },
      "execution_count": null,
      "outputs": []
    },
    {
      "cell_type": "code",
      "execution_count": null,
      "metadata": {
        "id": "UUUqZ8a9amHU",
        "colab": {
          "base_uri": "https://localhost:8080/"
        },
        "outputId": "241fecb3-478d-48d1-f6d1-ead8617e6c41"
      },
      "outputs": [
        {
          "output_type": "stream",
          "name": "stdout",
          "text": [
            "Cloning into 'get_intraday_stock_data'...\n",
            "remote: Enumerating objects: 32, done.\u001b[K\n",
            "remote: Counting objects:   3% (1/32)\u001b[K\rremote: Counting objects:   6% (2/32)\u001b[K\rremote: Counting objects:   9% (3/32)\u001b[K\rremote: Counting objects:  12% (4/32)\u001b[K\rremote: Counting objects:  15% (5/32)\u001b[K\rremote: Counting objects:  18% (6/32)\u001b[K\rremote: Counting objects:  21% (7/32)\u001b[K\rremote: Counting objects:  25% (8/32)\u001b[K\rremote: Counting objects:  28% (9/32)\u001b[K\rremote: Counting objects:  31% (10/32)\u001b[K\rremote: Counting objects:  34% (11/32)\u001b[K\rremote: Counting objects:  37% (12/32)\u001b[K\rremote: Counting objects:  40% (13/32)\u001b[K\rremote: Counting objects:  43% (14/32)\u001b[K\rremote: Counting objects:  46% (15/32)\u001b[K\rremote: Counting objects:  50% (16/32)\u001b[K\rremote: Counting objects:  53% (17/32)\u001b[K\rremote: Counting objects:  56% (18/32)\u001b[K\rremote: Counting objects:  59% (19/32)\u001b[K\rremote: Counting objects:  62% (20/32)\u001b[K\rremote: Counting objects:  65% (21/32)\u001b[K\rremote: Counting objects:  68% (22/32)\u001b[K\rremote: Counting objects:  71% (23/32)\u001b[K\rremote: Counting objects:  75% (24/32)\u001b[K\rremote: Counting objects:  78% (25/32)\u001b[K\rremote: Counting objects:  81% (26/32)\u001b[K\rremote: Counting objects:  84% (27/32)\u001b[K\rremote: Counting objects:  87% (28/32)\u001b[K\rremote: Counting objects:  90% (29/32)\u001b[K\rremote: Counting objects:  93% (30/32)\u001b[K\rremote: Counting objects:  96% (31/32)\u001b[K\rremote: Counting objects: 100% (32/32)\u001b[K\rremote: Counting objects: 100% (32/32), done.\u001b[K\n",
            "remote: Compressing objects:   4% (1/24)\u001b[K\rremote: Compressing objects:   8% (2/24)\u001b[K\rremote: Compressing objects:  12% (3/24)\u001b[K\rremote: Compressing objects:  16% (4/24)\u001b[K\rremote: Compressing objects:  20% (5/24)\u001b[K\rremote: Compressing objects:  25% (6/24)\u001b[K\rremote: Compressing objects:  29% (7/24)\u001b[K\rremote: Compressing objects:  33% (8/24)\u001b[K\rremote: Compressing objects:  37% (9/24)\u001b[K\rremote: Compressing objects:  41% (10/24)\u001b[K\rremote: Compressing objects:  45% (11/24)\u001b[K\rremote: Compressing objects:  50% (12/24)\u001b[K\rremote: Compressing objects:  54% (13/24)\u001b[K\rremote: Compressing objects:  58% (14/24)\u001b[K\rremote: Compressing objects:  62% (15/24)\u001b[K\rremote: Compressing objects:  66% (16/24)\u001b[K\rremote: Compressing objects:  70% (17/24)\u001b[K\rremote: Compressing objects:  75% (18/24)\u001b[K\rremote: Compressing objects:  79% (19/24)\u001b[K\rremote: Compressing objects:  83% (20/24)\u001b[K\rremote: Compressing objects:  87% (21/24)\u001b[K\rremote: Compressing objects:  91% (22/24)\u001b[K\rremote: Compressing objects:  95% (23/24)\u001b[K\rremote: Compressing objects: 100% (24/24)\u001b[K\rremote: Compressing objects: 100% (24/24), done.\u001b[K\n",
            "remote: Total 32 (delta 2), reused 0 (delta 0), pack-reused 0\u001b[K\n",
            "Receiving objects:   3% (1/32)\rReceiving objects:   6% (2/32)\rReceiving objects:   9% (3/32)\rReceiving objects:  12% (4/32)\rReceiving objects:  15% (5/32)\rReceiving objects:  18% (6/32)\rReceiving objects:  21% (7/32)\rReceiving objects:  25% (8/32)\rReceiving objects:  28% (9/32)\rReceiving objects:  31% (10/32)\rReceiving objects:  34% (11/32)\rReceiving objects:  37% (12/32)\rReceiving objects:  40% (13/32)\rReceiving objects:  43% (14/32)\rReceiving objects:  46% (15/32)\rReceiving objects:  50% (16/32)\rReceiving objects:  53% (17/32)\rReceiving objects:  56% (18/32)\rReceiving objects:  59% (19/32)\rReceiving objects:  62% (20/32)\rReceiving objects:  65% (21/32)\rReceiving objects:  68% (22/32)\rReceiving objects:  71% (23/32)\rReceiving objects:  75% (24/32)\rReceiving objects:  78% (25/32)\rReceiving objects:  81% (26/32)\rReceiving objects:  84% (27/32)\rReceiving objects:  87% (28/32)\rReceiving objects:  90% (29/32)\rReceiving objects:  93% (30/32)\rReceiving objects:  96% (31/32)\rReceiving objects: 100% (32/32)\rReceiving objects: 100% (32/32), 9.54 KiB | 1.91 MiB/s, done.\n",
            "Resolving deltas:   0% (0/2)\rResolving deltas:  50% (1/2)\rResolving deltas: 100% (2/2)\rResolving deltas: 100% (2/2), done.\n"
          ]
        }
      ],
      "source": [
        "!git clone https://github.com/anovaski/ToolsForStockData.git"
      ]
    },
    {
      "cell_type": "code",
      "source": [
        "import yfinance as yf\n",
        "import pandas as pd\n",
        "import statistics\n",
        "import numpy as np\n",
        "\n",
        "def read_tickers(textfile):\n",
        "  textfile = open(textfile, 'r')\n",
        "  textfile = textfile.read()\n",
        "  textfile = textfile.split(\"\\n\")\n",
        "  if textfile[-1] == \"\":\n",
        "    textfile = textfile[0:len(textfile)-1]\n",
        "  return textfile\n",
        "\n",
        "spy = yf.Ticker(\"SPY\")\n",
        "spy_hist = spy.history(period=\"1y\")\n",
        "spy_dataframe = pd.DataFrame.from_dict(spy_hist)\n",
        "spy_dataframe = spy_dataframe.pct_change()\n",
        "spy_dataframe.drop(['Volume','Dividends','Stock Splits'], axis=1)\n",
        "\n",
        "qqq = yf.Ticker(\"QQQ\")\n",
        "qqq_hist = qqq.history(period=\"1y\")\n",
        "qqq_dataframe = pd.DataFrame.from_dict(qqq_hist)\n",
        "qqq_dataframe = qqq_dataframe.pct_change()\n",
        "qqq_dataframe.drop(['Volume','Dividends','Stock Splits'], axis=1)\n",
        "\n",
        "ibb = yf.Ticker(\"IBB\")\n",
        "ibb_hist = ibb.history(period=\"1y\")\n",
        "ibb_dataframe = pd.DataFrame.from_dict(ibb_hist)\n",
        "ibb_dataframe = ibb_dataframe.pct_change()\n",
        "ibb_dataframe.drop(['Volume','Dividends','Stock Splits'], axis=1)\n",
        "\n",
        "#tickers = ['AAPL', 'MSFT', 'DGX']\n",
        "tickers = read_tickers('/content/ToolsForStockData/ticker-lists/followed_tickers.txt')\n",
        "\n",
        "ticker_list = []\n",
        "beta_list = []\n",
        "spy_list = []\n",
        "qqq_list = []\n",
        "ibb_list = []\n",
        "\n",
        "for ticker in tickers:\n",
        "  stock = yf.Ticker(ticker)\n",
        "  try:\n",
        "    beta = stock.info['beta']\n",
        "  except:\n",
        "    beta = 0\n",
        "  stock_hist = stock.history(period=\"1y\")\n",
        "  stock_dataframe = pd.DataFrame.from_dict(stock_hist)\n",
        "  stock_dataframe = stock_dataframe.pct_change()\n",
        "  stock_dataframe.drop(['Volume','Dividends','Stock Splits'], axis=1)\n",
        "\n",
        "  ticker_list.append(ticker)\n",
        "  beta_list.append(beta)\n",
        "  spy_list.append(spy_dataframe['Close'].corr(stock_dataframe['Close']))\n",
        "  qqq_list.append(qqq_dataframe['Close'].corr(stock_dataframe['Close']))\n",
        "  ibb_list.append(ibb_dataframe['Close'].corr(stock_dataframe['Close']))\n",
        "\n",
        "data = {'ticker': ticker_list,\n",
        "        'S&P500 Correlation': spy_list,\n",
        "        'Nasdaq Correlation': qqq_list,\n",
        "        'IBB Correlation': ibb_list,\n",
        "        'Beta': beta_list,\n",
        "        }\n",
        "df = pd.DataFrame(data)\n",
        "df.round(2)\n",
        "print(df)\n",
        "df.to_csv('followed_tickers_correlations.csv', index=False)"
      ],
      "metadata": {
        "id": "cMdIYBEWOv2R"
      },
      "execution_count": null,
      "outputs": []
    },
    {
      "cell_type": "code",
      "source": [
        "sector_list = [\n",
        "    'aesthetics',\n",
        "    'biologics',\n",
        "    'cardio',\n",
        "    'cro',\n",
        "    'diabetes',\n",
        "    'diagnostic',\n",
        "    'imaging',\n",
        "    'labs',\n",
        "    'lifesciequip',\n",
        "    'lifescigenome',\n",
        "    'meddevice',\n",
        "    'neuro',\n",
        "    'ocular',\n",
        "    'oral',\n",
        "    'pharma',\n",
        "    'robotic',\n",
        "    'spine',\n",
        "    'variousdevice'\n",
        "]\n",
        "\n",
        "import yfinance as yf\n",
        "import pandas as pd\n",
        "import seaborn as sns\n",
        "import matplotlib.pyplot as plt\n",
        "\n",
        "for sector in sector_list:\n",
        "  tickers = read_tickers('/content/ToolsForStockData/ticker-lists/get_intraday_stock_data/' + sector + '.txt')\n",
        "\n",
        "  data = yf.download(tickers, period='20d', group_by='ticker')\n",
        "\n",
        "  close_prices = pd.DataFrame()\n",
        "  for ticker in tickers:\n",
        "      close_prices[ticker] = data[ticker]['Close']\n",
        "\n",
        "  # compute the correlation matrix\n",
        "  corr_matrix = close_prices.corr()\n",
        "\n",
        "  # create a heatmap of the correlation matrix using Seaborn\n",
        "  sns.set(style='white')\n",
        "  fig, ax = plt.subplots(figsize=(10, 10))\n",
        "  sns.heatmap(corr_matrix, annot=True, cmap='RdYlGn', vmin=-1, vmax=1, ax=ax)\n",
        "\n",
        "  # set the axis labels and title\n",
        "  ax.set_xlabel('Stock Tickers')\n",
        "  ax.set_ylabel('Stock Tickers')\n",
        "  ax.set_title('10x10 Correlation Matrix of Stock Prices (20-day period)')\n",
        "\n",
        "  # display the plot\n",
        "  plt.savefig(sector + '.png', format='PNG')\n",
        "  plt.show()"
      ],
      "metadata": {
        "id": "DB_e9CGDXqhb"
      },
      "execution_count": null,
      "outputs": []
    }
  ]
}